{
 "cells": [
  {
   "cell_type": "code",
   "execution_count": 1,
   "id": "ca1bb2f6",
   "metadata": {},
   "outputs": [],
   "source": [
    "# imporing the libraries\n",
    "import requests\n",
    "from bs4 import BeautifulSoup\n",
    "import pandas as pd\n"
   ]
  },
  {
   "cell_type": "code",
   "execution_count": 2,
   "id": "a470e6b7",
   "metadata": {},
   "outputs": [],
   "source": [
    "# URL to scrape\n",
    "url = \"https://books.toscrape.com/index.html\"\n",
    "\n",
    "# Headers to mimic a browser visit\n",
    "headers = {\n",
    "    \"User-Agent\": \"Mozilla/5.0 (Windows NT 10.0; Win64; x64) AppleWebKit/537.36 (KHTML, like Gecko) Chrome/120.0.0.0 Safari/537.36\"\n",
    "}\n"
   ]
  },
  {
   "cell_type": "code",
   "execution_count": 3,
   "id": "01fa2d18",
   "metadata": {},
   "outputs": [],
   "source": [
    "# Fetching the webpage\n",
    "response = requests.get(url, headers=headers)\n",
    "soup = BeautifulSoup(response.content, \"html.parser\")\n"
   ]
  },
  {
   "cell_type": "code",
   "execution_count": 4,
   "id": "3d1d4039",
   "metadata": {},
   "outputs": [],
   "source": [
    "# Creating an empty list to store dictionaries\n",
    "book_list = []\n"
   ]
  },
  {
   "cell_type": "code",
   "execution_count": 5,
   "id": "09d0f72a",
   "metadata": {},
   "outputs": [],
   "source": [
    "# Finding all articles containing book information\n",
    "articles = soup.find_all(\"article\", class_=\"product_pod\")\n"
   ]
  },
  {
   "cell_type": "code",
   "execution_count": 6,
   "id": "811c4ae7",
   "metadata": {},
   "outputs": [
    {
     "name": "stdout",
     "output_type": "stream",
     "text": [
      "Title: A Light in the Attic\n",
      "Rating: Three\n",
      "Price: £51.77\n",
      "Link: https://books.toscrape.com/catalogue/a-light-in-the-attic_1000/index.html\n",
      "------\n",
      "Title: Tipping the Velvet\n",
      "Rating: One\n",
      "Price: £53.74\n",
      "Link: https://books.toscrape.com/catalogue/tipping-the-velvet_999/index.html\n",
      "------\n",
      "Title: Soumission\n",
      "Rating: One\n",
      "Price: £50.10\n",
      "Link: https://books.toscrape.com/catalogue/soumission_998/index.html\n",
      "------\n",
      "Title: Sharp Objects\n",
      "Rating: Four\n",
      "Price: £47.82\n",
      "Link: https://books.toscrape.com/catalogue/sharp-objects_997/index.html\n",
      "------\n",
      "Title: Sapiens: A Brief History of Humankind\n",
      "Rating: Five\n",
      "Price: £54.23\n",
      "Link: https://books.toscrape.com/catalogue/sapiens-a-brief-history-of-humankind_996/index.html\n",
      "------\n",
      "Title: The Requiem Red\n",
      "Rating: One\n",
      "Price: £22.65\n",
      "Link: https://books.toscrape.com/catalogue/the-requiem-red_995/index.html\n",
      "------\n",
      "Title: The Dirty Little Secrets of Getting Your Dream Job\n",
      "Rating: Four\n",
      "Price: £33.34\n",
      "Link: https://books.toscrape.com/catalogue/the-dirty-little-secrets-of-getting-your-dream-job_994/index.html\n",
      "------\n",
      "Title: The Coming Woman: A Novel Based on the Life of the Infamous Feminist, Victoria Woodhull\n",
      "Rating: Three\n",
      "Price: £17.93\n",
      "Link: https://books.toscrape.com/catalogue/the-coming-woman-a-novel-based-on-the-life-of-the-infamous-feminist-victoria-woodhull_993/index.html\n",
      "------\n",
      "Title: The Boys in the Boat: Nine Americans and Their Epic Quest for Gold at the 1936 Berlin Olympics\n",
      "Rating: Four\n",
      "Price: £22.60\n",
      "Link: https://books.toscrape.com/catalogue/the-boys-in-the-boat-nine-americans-and-their-epic-quest-for-gold-at-the-1936-berlin-olympics_992/index.html\n",
      "------\n",
      "Title: The Black Maria\n",
      "Rating: One\n",
      "Price: £52.15\n",
      "Link: https://books.toscrape.com/catalogue/the-black-maria_991/index.html\n",
      "------\n",
      "Title: Starving Hearts (Triangular Trade Trilogy, #1)\n",
      "Rating: Two\n",
      "Price: £13.99\n",
      "Link: https://books.toscrape.com/catalogue/starving-hearts-triangular-trade-trilogy-1_990/index.html\n",
      "------\n",
      "Title: Shakespeare's Sonnets\n",
      "Rating: Four\n",
      "Price: £20.66\n",
      "Link: https://books.toscrape.com/catalogue/shakespeares-sonnets_989/index.html\n",
      "------\n",
      "Title: Set Me Free\n",
      "Rating: Five\n",
      "Price: £17.46\n",
      "Link: https://books.toscrape.com/catalogue/set-me-free_988/index.html\n",
      "------\n",
      "Title: Scott Pilgrim's Precious Little Life (Scott Pilgrim #1)\n",
      "Rating: Five\n",
      "Price: £52.29\n",
      "Link: https://books.toscrape.com/catalogue/scott-pilgrims-precious-little-life-scott-pilgrim-1_987/index.html\n",
      "------\n",
      "Title: Rip it Up and Start Again\n",
      "Rating: Five\n",
      "Price: £35.02\n",
      "Link: https://books.toscrape.com/catalogue/rip-it-up-and-start-again_986/index.html\n",
      "------\n",
      "Title: Our Band Could Be Your Life: Scenes from the American Indie Underground, 1981-1991\n",
      "Rating: Three\n",
      "Price: £57.25\n",
      "Link: https://books.toscrape.com/catalogue/our-band-could-be-your-life-scenes-from-the-american-indie-underground-1981-1991_985/index.html\n",
      "------\n",
      "Title: Olio\n",
      "Rating: One\n",
      "Price: £23.88\n",
      "Link: https://books.toscrape.com/catalogue/olio_984/index.html\n",
      "------\n",
      "Title: Mesaerion: The Best Science Fiction Stories 1800-1849\n",
      "Rating: One\n",
      "Price: £37.59\n",
      "Link: https://books.toscrape.com/catalogue/mesaerion-the-best-science-fiction-stories-1800-1849_983/index.html\n",
      "------\n",
      "Title: Libertarianism for Beginners\n",
      "Rating: Two\n",
      "Price: £51.33\n",
      "Link: https://books.toscrape.com/catalogue/libertarianism-for-beginners_982/index.html\n",
      "------\n",
      "Title: It's Only the Himalayas\n",
      "Rating: Two\n",
      "Price: £45.17\n",
      "Link: https://books.toscrape.com/catalogue/its-only-the-himalayas_981/index.html\n",
      "------\n"
     ]
    }
   ],
   "source": [
    "# Iterating through each article to extract book details\n",
    "for article in articles:\n",
    "    title = article.find(\"h3\").find(\"a\")[\"title\"]\n",
    "    rating = article.find(\"p\", class_=\"star-rating\")[\"class\"][1]  #the rating class is extracted from the second class attribute of the <p> tag.\n",
    "    price = article.find(\"p\", class_=\"price_color\").text\n",
    "    link = article.find(\"h3\").find(\"a\")[\"href\"]\n",
    "    \n",
    "    print(\"Title:\", title)\n",
    "    print(\"Rating:\", rating)\n",
    "    print(\"Price:\", price)\n",
    "    print(\"Link:\", \"https://books.toscrape.com/\" + link)\n",
    "    print(\"------\")"
   ]
  },
  {
   "cell_type": "code",
   "execution_count": 7,
   "id": "58c0872a",
   "metadata": {},
   "outputs": [],
   "source": [
    "# Iterating through each article to extract book details\n",
    "for article in articles:\n",
    "    # Extracting data\n",
    "    title = article.find(\"h3\").find(\"a\")[\"title\"]\n",
    "    rating = article.find(\"p\", class_=\"star-rating\")[\"class\"][1]\n",
    "    price = article.find(\"p\", class_=\"price_color\").text\n",
    "    link = \"https://books.toscrape.com/\" + article.find(\"h3\").find(\"a\")[\"href\"]\n",
    "    \n",
    "# Creating a dictionary for each book and appending it to the list\n",
    "    book_dict = {\n",
    "        \"Title\": title,\n",
    "        \"Rating\": rating,\n",
    "        \"Price\": price,\n",
    "        \"Link\": link\n",
    "    }\n",
    "    book_list.append(book_dict)\n"
   ]
  },
  {
   "cell_type": "code",
   "execution_count": 8,
   "id": "ec02c473",
   "metadata": {},
   "outputs": [],
   "source": [
    "# Creating DataFrame directly from the list of dictionaries\n",
    "df = pd.DataFrame(book_list)\n"
   ]
  },
  {
   "cell_type": "code",
   "execution_count": 9,
   "id": "8cced7f0",
   "metadata": {
    "scrolled": true
   },
   "outputs": [
    {
     "name": "stdout",
     "output_type": "stream",
     "text": [
      "                                                Title Rating   Price  \\\n",
      "0                                A Light in the Attic  Three  £51.77   \n",
      "1                                  Tipping the Velvet    One  £53.74   \n",
      "2                                          Soumission    One  £50.10   \n",
      "3                                       Sharp Objects   Four  £47.82   \n",
      "4               Sapiens: A Brief History of Humankind   Five  £54.23   \n",
      "5                                     The Requiem Red    One  £22.65   \n",
      "6   The Dirty Little Secrets of Getting Your Dream...   Four  £33.34   \n",
      "7   The Coming Woman: A Novel Based on the Life of...  Three  £17.93   \n",
      "8   The Boys in the Boat: Nine Americans and Their...   Four  £22.60   \n",
      "9                                     The Black Maria    One  £52.15   \n",
      "10     Starving Hearts (Triangular Trade Trilogy, #1)    Two  £13.99   \n",
      "11                              Shakespeare's Sonnets   Four  £20.66   \n",
      "12                                        Set Me Free   Five  £17.46   \n",
      "13  Scott Pilgrim's Precious Little Life (Scott Pi...   Five  £52.29   \n",
      "14                          Rip it Up and Start Again   Five  £35.02   \n",
      "15  Our Band Could Be Your Life: Scenes from the A...  Three  £57.25   \n",
      "16                                               Olio    One  £23.88   \n",
      "17  Mesaerion: The Best Science Fiction Stories 18...    One  £37.59   \n",
      "18                       Libertarianism for Beginners    Two  £51.33   \n",
      "19                            It's Only the Himalayas    Two  £45.17   \n",
      "\n",
      "                                                 Link  \n",
      "0   https://books.toscrape.com/catalogue/a-light-i...  \n",
      "1   https://books.toscrape.com/catalogue/tipping-t...  \n",
      "2   https://books.toscrape.com/catalogue/soumissio...  \n",
      "3   https://books.toscrape.com/catalogue/sharp-obj...  \n",
      "4   https://books.toscrape.com/catalogue/sapiens-a...  \n",
      "5   https://books.toscrape.com/catalogue/the-requi...  \n",
      "6   https://books.toscrape.com/catalogue/the-dirty...  \n",
      "7   https://books.toscrape.com/catalogue/the-comin...  \n",
      "8   https://books.toscrape.com/catalogue/the-boys-...  \n",
      "9   https://books.toscrape.com/catalogue/the-black...  \n",
      "10  https://books.toscrape.com/catalogue/starving-...  \n",
      "11  https://books.toscrape.com/catalogue/shakespea...  \n",
      "12  https://books.toscrape.com/catalogue/set-me-fr...  \n",
      "13  https://books.toscrape.com/catalogue/scott-pil...  \n",
      "14  https://books.toscrape.com/catalogue/rip-it-up...  \n",
      "15  https://books.toscrape.com/catalogue/our-band-...  \n",
      "16  https://books.toscrape.com/catalogue/olio_984/...  \n",
      "17  https://books.toscrape.com/catalogue/mesaerion...  \n",
      "18  https://books.toscrape.com/catalogue/libertari...  \n",
      "19  https://books.toscrape.com/catalogue/its-only-...  \n"
     ]
    }
   ],
   "source": [
    "# Printing the DataFrame\n",
    "print(df)\n"
   ]
  },
  {
   "cell_type": "code",
   "execution_count": 11,
   "id": "5e0df84b",
   "metadata": {},
   "outputs": [
    {
     "data": {
      "text/html": [
       "<div>\n",
       "<style scoped>\n",
       "    .dataframe tbody tr th:only-of-type {\n",
       "        vertical-align: middle;\n",
       "    }\n",
       "\n",
       "    .dataframe tbody tr th {\n",
       "        vertical-align: top;\n",
       "    }\n",
       "\n",
       "    .dataframe thead th {\n",
       "        text-align: right;\n",
       "    }\n",
       "</style>\n",
       "<table border=\"1\" class=\"dataframe\">\n",
       "  <thead>\n",
       "    <tr style=\"text-align: right;\">\n",
       "      <th></th>\n",
       "      <th>Title</th>\n",
       "      <th>Rating</th>\n",
       "      <th>Price</th>\n",
       "      <th>Link</th>\n",
       "    </tr>\n",
       "  </thead>\n",
       "  <tbody>\n",
       "    <tr>\n",
       "      <th>0</th>\n",
       "      <td>A Light in the Attic</td>\n",
       "      <td>Three</td>\n",
       "      <td>£51.77</td>\n",
       "      <td>https://books.toscrape.com/catalogue/a-light-i...</td>\n",
       "    </tr>\n",
       "    <tr>\n",
       "      <th>1</th>\n",
       "      <td>Tipping the Velvet</td>\n",
       "      <td>One</td>\n",
       "      <td>£53.74</td>\n",
       "      <td>https://books.toscrape.com/catalogue/tipping-t...</td>\n",
       "    </tr>\n",
       "    <tr>\n",
       "      <th>2</th>\n",
       "      <td>Soumission</td>\n",
       "      <td>One</td>\n",
       "      <td>£50.10</td>\n",
       "      <td>https://books.toscrape.com/catalogue/soumissio...</td>\n",
       "    </tr>\n",
       "    <tr>\n",
       "      <th>3</th>\n",
       "      <td>Sharp Objects</td>\n",
       "      <td>Four</td>\n",
       "      <td>£47.82</td>\n",
       "      <td>https://books.toscrape.com/catalogue/sharp-obj...</td>\n",
       "    </tr>\n",
       "    <tr>\n",
       "      <th>4</th>\n",
       "      <td>Sapiens: A Brief History of Humankind</td>\n",
       "      <td>Five</td>\n",
       "      <td>£54.23</td>\n",
       "      <td>https://books.toscrape.com/catalogue/sapiens-a...</td>\n",
       "    </tr>\n",
       "    <tr>\n",
       "      <th>5</th>\n",
       "      <td>The Requiem Red</td>\n",
       "      <td>One</td>\n",
       "      <td>£22.65</td>\n",
       "      <td>https://books.toscrape.com/catalogue/the-requi...</td>\n",
       "    </tr>\n",
       "    <tr>\n",
       "      <th>6</th>\n",
       "      <td>The Dirty Little Secrets of Getting Your Dream...</td>\n",
       "      <td>Four</td>\n",
       "      <td>£33.34</td>\n",
       "      <td>https://books.toscrape.com/catalogue/the-dirty...</td>\n",
       "    </tr>\n",
       "    <tr>\n",
       "      <th>7</th>\n",
       "      <td>The Coming Woman: A Novel Based on the Life of...</td>\n",
       "      <td>Three</td>\n",
       "      <td>£17.93</td>\n",
       "      <td>https://books.toscrape.com/catalogue/the-comin...</td>\n",
       "    </tr>\n",
       "    <tr>\n",
       "      <th>8</th>\n",
       "      <td>The Boys in the Boat: Nine Americans and Their...</td>\n",
       "      <td>Four</td>\n",
       "      <td>£22.60</td>\n",
       "      <td>https://books.toscrape.com/catalogue/the-boys-...</td>\n",
       "    </tr>\n",
       "    <tr>\n",
       "      <th>9</th>\n",
       "      <td>The Black Maria</td>\n",
       "      <td>One</td>\n",
       "      <td>£52.15</td>\n",
       "      <td>https://books.toscrape.com/catalogue/the-black...</td>\n",
       "    </tr>\n",
       "    <tr>\n",
       "      <th>10</th>\n",
       "      <td>Starving Hearts (Triangular Trade Trilogy, #1)</td>\n",
       "      <td>Two</td>\n",
       "      <td>£13.99</td>\n",
       "      <td>https://books.toscrape.com/catalogue/starving-...</td>\n",
       "    </tr>\n",
       "    <tr>\n",
       "      <th>11</th>\n",
       "      <td>Shakespeare's Sonnets</td>\n",
       "      <td>Four</td>\n",
       "      <td>£20.66</td>\n",
       "      <td>https://books.toscrape.com/catalogue/shakespea...</td>\n",
       "    </tr>\n",
       "    <tr>\n",
       "      <th>12</th>\n",
       "      <td>Set Me Free</td>\n",
       "      <td>Five</td>\n",
       "      <td>£17.46</td>\n",
       "      <td>https://books.toscrape.com/catalogue/set-me-fr...</td>\n",
       "    </tr>\n",
       "    <tr>\n",
       "      <th>13</th>\n",
       "      <td>Scott Pilgrim's Precious Little Life (Scott Pi...</td>\n",
       "      <td>Five</td>\n",
       "      <td>£52.29</td>\n",
       "      <td>https://books.toscrape.com/catalogue/scott-pil...</td>\n",
       "    </tr>\n",
       "    <tr>\n",
       "      <th>14</th>\n",
       "      <td>Rip it Up and Start Again</td>\n",
       "      <td>Five</td>\n",
       "      <td>£35.02</td>\n",
       "      <td>https://books.toscrape.com/catalogue/rip-it-up...</td>\n",
       "    </tr>\n",
       "    <tr>\n",
       "      <th>15</th>\n",
       "      <td>Our Band Could Be Your Life: Scenes from the A...</td>\n",
       "      <td>Three</td>\n",
       "      <td>£57.25</td>\n",
       "      <td>https://books.toscrape.com/catalogue/our-band-...</td>\n",
       "    </tr>\n",
       "    <tr>\n",
       "      <th>16</th>\n",
       "      <td>Olio</td>\n",
       "      <td>One</td>\n",
       "      <td>£23.88</td>\n",
       "      <td>https://books.toscrape.com/catalogue/olio_984/...</td>\n",
       "    </tr>\n",
       "    <tr>\n",
       "      <th>17</th>\n",
       "      <td>Mesaerion: The Best Science Fiction Stories 18...</td>\n",
       "      <td>One</td>\n",
       "      <td>£37.59</td>\n",
       "      <td>https://books.toscrape.com/catalogue/mesaerion...</td>\n",
       "    </tr>\n",
       "    <tr>\n",
       "      <th>18</th>\n",
       "      <td>Libertarianism for Beginners</td>\n",
       "      <td>Two</td>\n",
       "      <td>£51.33</td>\n",
       "      <td>https://books.toscrape.com/catalogue/libertari...</td>\n",
       "    </tr>\n",
       "    <tr>\n",
       "      <th>19</th>\n",
       "      <td>It's Only the Himalayas</td>\n",
       "      <td>Two</td>\n",
       "      <td>£45.17</td>\n",
       "      <td>https://books.toscrape.com/catalogue/its-only-...</td>\n",
       "    </tr>\n",
       "  </tbody>\n",
       "</table>\n",
       "</div>"
      ],
      "text/plain": [
       "                                                Title Rating   Price  \\\n",
       "0                                A Light in the Attic  Three  £51.77   \n",
       "1                                  Tipping the Velvet    One  £53.74   \n",
       "2                                          Soumission    One  £50.10   \n",
       "3                                       Sharp Objects   Four  £47.82   \n",
       "4               Sapiens: A Brief History of Humankind   Five  £54.23   \n",
       "5                                     The Requiem Red    One  £22.65   \n",
       "6   The Dirty Little Secrets of Getting Your Dream...   Four  £33.34   \n",
       "7   The Coming Woman: A Novel Based on the Life of...  Three  £17.93   \n",
       "8   The Boys in the Boat: Nine Americans and Their...   Four  £22.60   \n",
       "9                                     The Black Maria    One  £52.15   \n",
       "10     Starving Hearts (Triangular Trade Trilogy, #1)    Two  £13.99   \n",
       "11                              Shakespeare's Sonnets   Four  £20.66   \n",
       "12                                        Set Me Free   Five  £17.46   \n",
       "13  Scott Pilgrim's Precious Little Life (Scott Pi...   Five  £52.29   \n",
       "14                          Rip it Up and Start Again   Five  £35.02   \n",
       "15  Our Band Could Be Your Life: Scenes from the A...  Three  £57.25   \n",
       "16                                               Olio    One  £23.88   \n",
       "17  Mesaerion: The Best Science Fiction Stories 18...    One  £37.59   \n",
       "18                       Libertarianism for Beginners    Two  £51.33   \n",
       "19                            It's Only the Himalayas    Two  £45.17   \n",
       "\n",
       "                                                 Link  \n",
       "0   https://books.toscrape.com/catalogue/a-light-i...  \n",
       "1   https://books.toscrape.com/catalogue/tipping-t...  \n",
       "2   https://books.toscrape.com/catalogue/soumissio...  \n",
       "3   https://books.toscrape.com/catalogue/sharp-obj...  \n",
       "4   https://books.toscrape.com/catalogue/sapiens-a...  \n",
       "5   https://books.toscrape.com/catalogue/the-requi...  \n",
       "6   https://books.toscrape.com/catalogue/the-dirty...  \n",
       "7   https://books.toscrape.com/catalogue/the-comin...  \n",
       "8   https://books.toscrape.com/catalogue/the-boys-...  \n",
       "9   https://books.toscrape.com/catalogue/the-black...  \n",
       "10  https://books.toscrape.com/catalogue/starving-...  \n",
       "11  https://books.toscrape.com/catalogue/shakespea...  \n",
       "12  https://books.toscrape.com/catalogue/set-me-fr...  \n",
       "13  https://books.toscrape.com/catalogue/scott-pil...  \n",
       "14  https://books.toscrape.com/catalogue/rip-it-up...  \n",
       "15  https://books.toscrape.com/catalogue/our-band-...  \n",
       "16  https://books.toscrape.com/catalogue/olio_984/...  \n",
       "17  https://books.toscrape.com/catalogue/mesaerion...  \n",
       "18  https://books.toscrape.com/catalogue/libertari...  \n",
       "19  https://books.toscrape.com/catalogue/its-only-...  "
      ]
     },
     "metadata": {},
     "output_type": "display_data"
    }
   ],
   "source": [
    "# Importing necessary module for displaying table\n",
    "from IPython.display import display\n",
    "\n",
    "# Displaying the DataFrame as a table\n",
    "display(df)\n"
   ]
  },
  {
   "cell_type": "code",
   "execution_count": 14,
   "id": "0b1ff773",
   "metadata": {},
   "outputs": [
    {
     "data": {
      "application/vnd.plotly.v1+json": {
       "config": {
        "plotlyServerURL": "https://plot.ly"
       },
       "data": [
        {
         "cells": {
          "align": "left",
          "fill": {
           "color": "lavender"
          },
          "values": [
           [
            "A Light in the Attic",
            "Tipping the Velvet",
            "Soumission",
            "Sharp Objects",
            "Sapiens: A Brief History of Humankind",
            "The Requiem Red",
            "The Dirty Little Secrets of Getting Your Dream Job",
            "The Coming Woman: A Novel Based on the Life of the Infamous Feminist, Victoria Woodhull",
            "The Boys in the Boat: Nine Americans and Their Epic Quest for Gold at the 1936 Berlin Olympics",
            "The Black Maria",
            "Starving Hearts (Triangular Trade Trilogy, #1)",
            "Shakespeare's Sonnets",
            "Set Me Free",
            "Scott Pilgrim's Precious Little Life (Scott Pilgrim #1)",
            "Rip it Up and Start Again",
            "Our Band Could Be Your Life: Scenes from the American Indie Underground, 1981-1991",
            "Olio",
            "Mesaerion: The Best Science Fiction Stories 1800-1849",
            "Libertarianism for Beginners",
            "It's Only the Himalayas"
           ],
           [
            "Three",
            "One",
            "One",
            "Four",
            "Five",
            "One",
            "Four",
            "Three",
            "Four",
            "One",
            "Two",
            "Four",
            "Five",
            "Five",
            "Five",
            "Three",
            "One",
            "One",
            "Two",
            "Two"
           ],
           [
            "£51.77",
            "£53.74",
            "£50.10",
            "£47.82",
            "£54.23",
            "£22.65",
            "£33.34",
            "£17.93",
            "£22.60",
            "£52.15",
            "£13.99",
            "£20.66",
            "£17.46",
            "£52.29",
            "£35.02",
            "£57.25",
            "£23.88",
            "£37.59",
            "£51.33",
            "£45.17"
           ],
           [
            "https://books.toscrape.com/catalogue/a-light-in-the-attic_1000/index.html",
            "https://books.toscrape.com/catalogue/tipping-the-velvet_999/index.html",
            "https://books.toscrape.com/catalogue/soumission_998/index.html",
            "https://books.toscrape.com/catalogue/sharp-objects_997/index.html",
            "https://books.toscrape.com/catalogue/sapiens-a-brief-history-of-humankind_996/index.html",
            "https://books.toscrape.com/catalogue/the-requiem-red_995/index.html",
            "https://books.toscrape.com/catalogue/the-dirty-little-secrets-of-getting-your-dream-job_994/index.html",
            "https://books.toscrape.com/catalogue/the-coming-woman-a-novel-based-on-the-life-of-the-infamous-feminist-victoria-woodhull_993/index.html",
            "https://books.toscrape.com/catalogue/the-boys-in-the-boat-nine-americans-and-their-epic-quest-for-gold-at-the-1936-berlin-olympics_992/index.html",
            "https://books.toscrape.com/catalogue/the-black-maria_991/index.html",
            "https://books.toscrape.com/catalogue/starving-hearts-triangular-trade-trilogy-1_990/index.html",
            "https://books.toscrape.com/catalogue/shakespeares-sonnets_989/index.html",
            "https://books.toscrape.com/catalogue/set-me-free_988/index.html",
            "https://books.toscrape.com/catalogue/scott-pilgrims-precious-little-life-scott-pilgrim-1_987/index.html",
            "https://books.toscrape.com/catalogue/rip-it-up-and-start-again_986/index.html",
            "https://books.toscrape.com/catalogue/our-band-could-be-your-life-scenes-from-the-american-indie-underground-1981-1991_985/index.html",
            "https://books.toscrape.com/catalogue/olio_984/index.html",
            "https://books.toscrape.com/catalogue/mesaerion-the-best-science-fiction-stories-1800-1849_983/index.html",
            "https://books.toscrape.com/catalogue/libertarianism-for-beginners_982/index.html",
            "https://books.toscrape.com/catalogue/its-only-the-himalayas_981/index.html"
           ]
          ]
         },
         "header": {
          "align": "left",
          "fill": {
           "color": "paleturquoise"
          },
          "values": [
           "Title",
           "Rating",
           "Price",
           "Link"
          ]
         },
         "type": "table"
        }
       ],
       "layout": {
        "template": {
         "data": {
          "bar": [
           {
            "error_x": {
             "color": "#2a3f5f"
            },
            "error_y": {
             "color": "#2a3f5f"
            },
            "marker": {
             "line": {
              "color": "#E5ECF6",
              "width": 0.5
             },
             "pattern": {
              "fillmode": "overlay",
              "size": 10,
              "solidity": 0.2
             }
            },
            "type": "bar"
           }
          ],
          "barpolar": [
           {
            "marker": {
             "line": {
              "color": "#E5ECF6",
              "width": 0.5
             },
             "pattern": {
              "fillmode": "overlay",
              "size": 10,
              "solidity": 0.2
             }
            },
            "type": "barpolar"
           }
          ],
          "carpet": [
           {
            "aaxis": {
             "endlinecolor": "#2a3f5f",
             "gridcolor": "white",
             "linecolor": "white",
             "minorgridcolor": "white",
             "startlinecolor": "#2a3f5f"
            },
            "baxis": {
             "endlinecolor": "#2a3f5f",
             "gridcolor": "white",
             "linecolor": "white",
             "minorgridcolor": "white",
             "startlinecolor": "#2a3f5f"
            },
            "type": "carpet"
           }
          ],
          "choropleth": [
           {
            "colorbar": {
             "outlinewidth": 0,
             "ticks": ""
            },
            "type": "choropleth"
           }
          ],
          "contour": [
           {
            "colorbar": {
             "outlinewidth": 0,
             "ticks": ""
            },
            "colorscale": [
             [
              0,
              "#0d0887"
             ],
             [
              0.1111111111111111,
              "#46039f"
             ],
             [
              0.2222222222222222,
              "#7201a8"
             ],
             [
              0.3333333333333333,
              "#9c179e"
             ],
             [
              0.4444444444444444,
              "#bd3786"
             ],
             [
              0.5555555555555556,
              "#d8576b"
             ],
             [
              0.6666666666666666,
              "#ed7953"
             ],
             [
              0.7777777777777778,
              "#fb9f3a"
             ],
             [
              0.8888888888888888,
              "#fdca26"
             ],
             [
              1,
              "#f0f921"
             ]
            ],
            "type": "contour"
           }
          ],
          "contourcarpet": [
           {
            "colorbar": {
             "outlinewidth": 0,
             "ticks": ""
            },
            "type": "contourcarpet"
           }
          ],
          "heatmap": [
           {
            "colorbar": {
             "outlinewidth": 0,
             "ticks": ""
            },
            "colorscale": [
             [
              0,
              "#0d0887"
             ],
             [
              0.1111111111111111,
              "#46039f"
             ],
             [
              0.2222222222222222,
              "#7201a8"
             ],
             [
              0.3333333333333333,
              "#9c179e"
             ],
             [
              0.4444444444444444,
              "#bd3786"
             ],
             [
              0.5555555555555556,
              "#d8576b"
             ],
             [
              0.6666666666666666,
              "#ed7953"
             ],
             [
              0.7777777777777778,
              "#fb9f3a"
             ],
             [
              0.8888888888888888,
              "#fdca26"
             ],
             [
              1,
              "#f0f921"
             ]
            ],
            "type": "heatmap"
           }
          ],
          "heatmapgl": [
           {
            "colorbar": {
             "outlinewidth": 0,
             "ticks": ""
            },
            "colorscale": [
             [
              0,
              "#0d0887"
             ],
             [
              0.1111111111111111,
              "#46039f"
             ],
             [
              0.2222222222222222,
              "#7201a8"
             ],
             [
              0.3333333333333333,
              "#9c179e"
             ],
             [
              0.4444444444444444,
              "#bd3786"
             ],
             [
              0.5555555555555556,
              "#d8576b"
             ],
             [
              0.6666666666666666,
              "#ed7953"
             ],
             [
              0.7777777777777778,
              "#fb9f3a"
             ],
             [
              0.8888888888888888,
              "#fdca26"
             ],
             [
              1,
              "#f0f921"
             ]
            ],
            "type": "heatmapgl"
           }
          ],
          "histogram": [
           {
            "marker": {
             "pattern": {
              "fillmode": "overlay",
              "size": 10,
              "solidity": 0.2
             }
            },
            "type": "histogram"
           }
          ],
          "histogram2d": [
           {
            "colorbar": {
             "outlinewidth": 0,
             "ticks": ""
            },
            "colorscale": [
             [
              0,
              "#0d0887"
             ],
             [
              0.1111111111111111,
              "#46039f"
             ],
             [
              0.2222222222222222,
              "#7201a8"
             ],
             [
              0.3333333333333333,
              "#9c179e"
             ],
             [
              0.4444444444444444,
              "#bd3786"
             ],
             [
              0.5555555555555556,
              "#d8576b"
             ],
             [
              0.6666666666666666,
              "#ed7953"
             ],
             [
              0.7777777777777778,
              "#fb9f3a"
             ],
             [
              0.8888888888888888,
              "#fdca26"
             ],
             [
              1,
              "#f0f921"
             ]
            ],
            "type": "histogram2d"
           }
          ],
          "histogram2dcontour": [
           {
            "colorbar": {
             "outlinewidth": 0,
             "ticks": ""
            },
            "colorscale": [
             [
              0,
              "#0d0887"
             ],
             [
              0.1111111111111111,
              "#46039f"
             ],
             [
              0.2222222222222222,
              "#7201a8"
             ],
             [
              0.3333333333333333,
              "#9c179e"
             ],
             [
              0.4444444444444444,
              "#bd3786"
             ],
             [
              0.5555555555555556,
              "#d8576b"
             ],
             [
              0.6666666666666666,
              "#ed7953"
             ],
             [
              0.7777777777777778,
              "#fb9f3a"
             ],
             [
              0.8888888888888888,
              "#fdca26"
             ],
             [
              1,
              "#f0f921"
             ]
            ],
            "type": "histogram2dcontour"
           }
          ],
          "mesh3d": [
           {
            "colorbar": {
             "outlinewidth": 0,
             "ticks": ""
            },
            "type": "mesh3d"
           }
          ],
          "parcoords": [
           {
            "line": {
             "colorbar": {
              "outlinewidth": 0,
              "ticks": ""
             }
            },
            "type": "parcoords"
           }
          ],
          "pie": [
           {
            "automargin": true,
            "type": "pie"
           }
          ],
          "scatter": [
           {
            "fillpattern": {
             "fillmode": "overlay",
             "size": 10,
             "solidity": 0.2
            },
            "type": "scatter"
           }
          ],
          "scatter3d": [
           {
            "line": {
             "colorbar": {
              "outlinewidth": 0,
              "ticks": ""
             }
            },
            "marker": {
             "colorbar": {
              "outlinewidth": 0,
              "ticks": ""
             }
            },
            "type": "scatter3d"
           }
          ],
          "scattercarpet": [
           {
            "marker": {
             "colorbar": {
              "outlinewidth": 0,
              "ticks": ""
             }
            },
            "type": "scattercarpet"
           }
          ],
          "scattergeo": [
           {
            "marker": {
             "colorbar": {
              "outlinewidth": 0,
              "ticks": ""
             }
            },
            "type": "scattergeo"
           }
          ],
          "scattergl": [
           {
            "marker": {
             "colorbar": {
              "outlinewidth": 0,
              "ticks": ""
             }
            },
            "type": "scattergl"
           }
          ],
          "scattermapbox": [
           {
            "marker": {
             "colorbar": {
              "outlinewidth": 0,
              "ticks": ""
             }
            },
            "type": "scattermapbox"
           }
          ],
          "scatterpolar": [
           {
            "marker": {
             "colorbar": {
              "outlinewidth": 0,
              "ticks": ""
             }
            },
            "type": "scatterpolar"
           }
          ],
          "scatterpolargl": [
           {
            "marker": {
             "colorbar": {
              "outlinewidth": 0,
              "ticks": ""
             }
            },
            "type": "scatterpolargl"
           }
          ],
          "scatterternary": [
           {
            "marker": {
             "colorbar": {
              "outlinewidth": 0,
              "ticks": ""
             }
            },
            "type": "scatterternary"
           }
          ],
          "surface": [
           {
            "colorbar": {
             "outlinewidth": 0,
             "ticks": ""
            },
            "colorscale": [
             [
              0,
              "#0d0887"
             ],
             [
              0.1111111111111111,
              "#46039f"
             ],
             [
              0.2222222222222222,
              "#7201a8"
             ],
             [
              0.3333333333333333,
              "#9c179e"
             ],
             [
              0.4444444444444444,
              "#bd3786"
             ],
             [
              0.5555555555555556,
              "#d8576b"
             ],
             [
              0.6666666666666666,
              "#ed7953"
             ],
             [
              0.7777777777777778,
              "#fb9f3a"
             ],
             [
              0.8888888888888888,
              "#fdca26"
             ],
             [
              1,
              "#f0f921"
             ]
            ],
            "type": "surface"
           }
          ],
          "table": [
           {
            "cells": {
             "fill": {
              "color": "#EBF0F8"
             },
             "line": {
              "color": "white"
             }
            },
            "header": {
             "fill": {
              "color": "#C8D4E3"
             },
             "line": {
              "color": "white"
             }
            },
            "type": "table"
           }
          ]
         },
         "layout": {
          "annotationdefaults": {
           "arrowcolor": "#2a3f5f",
           "arrowhead": 0,
           "arrowwidth": 1
          },
          "autotypenumbers": "strict",
          "coloraxis": {
           "colorbar": {
            "outlinewidth": 0,
            "ticks": ""
           }
          },
          "colorscale": {
           "diverging": [
            [
             0,
             "#8e0152"
            ],
            [
             0.1,
             "#c51b7d"
            ],
            [
             0.2,
             "#de77ae"
            ],
            [
             0.3,
             "#f1b6da"
            ],
            [
             0.4,
             "#fde0ef"
            ],
            [
             0.5,
             "#f7f7f7"
            ],
            [
             0.6,
             "#e6f5d0"
            ],
            [
             0.7,
             "#b8e186"
            ],
            [
             0.8,
             "#7fbc41"
            ],
            [
             0.9,
             "#4d9221"
            ],
            [
             1,
             "#276419"
            ]
           ],
           "sequential": [
            [
             0,
             "#0d0887"
            ],
            [
             0.1111111111111111,
             "#46039f"
            ],
            [
             0.2222222222222222,
             "#7201a8"
            ],
            [
             0.3333333333333333,
             "#9c179e"
            ],
            [
             0.4444444444444444,
             "#bd3786"
            ],
            [
             0.5555555555555556,
             "#d8576b"
            ],
            [
             0.6666666666666666,
             "#ed7953"
            ],
            [
             0.7777777777777778,
             "#fb9f3a"
            ],
            [
             0.8888888888888888,
             "#fdca26"
            ],
            [
             1,
             "#f0f921"
            ]
           ],
           "sequentialminus": [
            [
             0,
             "#0d0887"
            ],
            [
             0.1111111111111111,
             "#46039f"
            ],
            [
             0.2222222222222222,
             "#7201a8"
            ],
            [
             0.3333333333333333,
             "#9c179e"
            ],
            [
             0.4444444444444444,
             "#bd3786"
            ],
            [
             0.5555555555555556,
             "#d8576b"
            ],
            [
             0.6666666666666666,
             "#ed7953"
            ],
            [
             0.7777777777777778,
             "#fb9f3a"
            ],
            [
             0.8888888888888888,
             "#fdca26"
            ],
            [
             1,
             "#f0f921"
            ]
           ]
          },
          "colorway": [
           "#636efa",
           "#EF553B",
           "#00cc96",
           "#ab63fa",
           "#FFA15A",
           "#19d3f3",
           "#FF6692",
           "#B6E880",
           "#FF97FF",
           "#FECB52"
          ],
          "font": {
           "color": "#2a3f5f"
          },
          "geo": {
           "bgcolor": "white",
           "lakecolor": "white",
           "landcolor": "#E5ECF6",
           "showlakes": true,
           "showland": true,
           "subunitcolor": "white"
          },
          "hoverlabel": {
           "align": "left"
          },
          "hovermode": "closest",
          "mapbox": {
           "style": "light"
          },
          "paper_bgcolor": "white",
          "plot_bgcolor": "#E5ECF6",
          "polar": {
           "angularaxis": {
            "gridcolor": "white",
            "linecolor": "white",
            "ticks": ""
           },
           "bgcolor": "#E5ECF6",
           "radialaxis": {
            "gridcolor": "white",
            "linecolor": "white",
            "ticks": ""
           }
          },
          "scene": {
           "xaxis": {
            "backgroundcolor": "#E5ECF6",
            "gridcolor": "white",
            "gridwidth": 2,
            "linecolor": "white",
            "showbackground": true,
            "ticks": "",
            "zerolinecolor": "white"
           },
           "yaxis": {
            "backgroundcolor": "#E5ECF6",
            "gridcolor": "white",
            "gridwidth": 2,
            "linecolor": "white",
            "showbackground": true,
            "ticks": "",
            "zerolinecolor": "white"
           },
           "zaxis": {
            "backgroundcolor": "#E5ECF6",
            "gridcolor": "white",
            "gridwidth": 2,
            "linecolor": "white",
            "showbackground": true,
            "ticks": "",
            "zerolinecolor": "white"
           }
          },
          "shapedefaults": {
           "line": {
            "color": "#2a3f5f"
           }
          },
          "ternary": {
           "aaxis": {
            "gridcolor": "white",
            "linecolor": "white",
            "ticks": ""
           },
           "baxis": {
            "gridcolor": "white",
            "linecolor": "white",
            "ticks": ""
           },
           "bgcolor": "#E5ECF6",
           "caxis": {
            "gridcolor": "white",
            "linecolor": "white",
            "ticks": ""
           }
          },
          "title": {
           "x": 0.05
          },
          "xaxis": {
           "automargin": true,
           "gridcolor": "white",
           "linecolor": "white",
           "ticks": "",
           "title": {
            "standoff": 15
           },
           "zerolinecolor": "white",
           "zerolinewidth": 2
          },
          "yaxis": {
           "automargin": true,
           "gridcolor": "white",
           "linecolor": "white",
           "ticks": "",
           "title": {
            "standoff": 15
           },
           "zerolinecolor": "white",
           "zerolinewidth": 2
          }
         }
        }
       }
      },
      "text/html": [
       "<div>                            <div id=\"f79c5ae9-06c9-42b2-a222-dc4fc0ef3dfd\" class=\"plotly-graph-div\" style=\"height:525px; width:100%;\"></div>            <script type=\"text/javascript\">                require([\"plotly\"], function(Plotly) {                    window.PLOTLYENV=window.PLOTLYENV || {};                                    if (document.getElementById(\"f79c5ae9-06c9-42b2-a222-dc4fc0ef3dfd\")) {                    Plotly.newPlot(                        \"f79c5ae9-06c9-42b2-a222-dc4fc0ef3dfd\",                        [{\"cells\":{\"align\":\"left\",\"fill\":{\"color\":\"lavender\"},\"values\":[[\"A Light in the Attic\",\"Tipping the Velvet\",\"Soumission\",\"Sharp Objects\",\"Sapiens: A Brief History of Humankind\",\"The Requiem Red\",\"The Dirty Little Secrets of Getting Your Dream Job\",\"The Coming Woman: A Novel Based on the Life of the Infamous Feminist, Victoria Woodhull\",\"The Boys in the Boat: Nine Americans and Their Epic Quest for Gold at the 1936 Berlin Olympics\",\"The Black Maria\",\"Starving Hearts (Triangular Trade Trilogy, #1)\",\"Shakespeare's Sonnets\",\"Set Me Free\",\"Scott Pilgrim's Precious Little Life (Scott Pilgrim #1)\",\"Rip it Up and Start Again\",\"Our Band Could Be Your Life: Scenes from the American Indie Underground, 1981-1991\",\"Olio\",\"Mesaerion: The Best Science Fiction Stories 1800-1849\",\"Libertarianism for Beginners\",\"It's Only the Himalayas\"],[\"Three\",\"One\",\"One\",\"Four\",\"Five\",\"One\",\"Four\",\"Three\",\"Four\",\"One\",\"Two\",\"Four\",\"Five\",\"Five\",\"Five\",\"Three\",\"One\",\"One\",\"Two\",\"Two\"],[\"\\u00a351.77\",\"\\u00a353.74\",\"\\u00a350.10\",\"\\u00a347.82\",\"\\u00a354.23\",\"\\u00a322.65\",\"\\u00a333.34\",\"\\u00a317.93\",\"\\u00a322.60\",\"\\u00a352.15\",\"\\u00a313.99\",\"\\u00a320.66\",\"\\u00a317.46\",\"\\u00a352.29\",\"\\u00a335.02\",\"\\u00a357.25\",\"\\u00a323.88\",\"\\u00a337.59\",\"\\u00a351.33\",\"\\u00a345.17\"],[\"https://books.toscrape.com/catalogue/a-light-in-the-attic_1000/index.html\",\"https://books.toscrape.com/catalogue/tipping-the-velvet_999/index.html\",\"https://books.toscrape.com/catalogue/soumission_998/index.html\",\"https://books.toscrape.com/catalogue/sharp-objects_997/index.html\",\"https://books.toscrape.com/catalogue/sapiens-a-brief-history-of-humankind_996/index.html\",\"https://books.toscrape.com/catalogue/the-requiem-red_995/index.html\",\"https://books.toscrape.com/catalogue/the-dirty-little-secrets-of-getting-your-dream-job_994/index.html\",\"https://books.toscrape.com/catalogue/the-coming-woman-a-novel-based-on-the-life-of-the-infamous-feminist-victoria-woodhull_993/index.html\",\"https://books.toscrape.com/catalogue/the-boys-in-the-boat-nine-americans-and-their-epic-quest-for-gold-at-the-1936-berlin-olympics_992/index.html\",\"https://books.toscrape.com/catalogue/the-black-maria_991/index.html\",\"https://books.toscrape.com/catalogue/starving-hearts-triangular-trade-trilogy-1_990/index.html\",\"https://books.toscrape.com/catalogue/shakespeares-sonnets_989/index.html\",\"https://books.toscrape.com/catalogue/set-me-free_988/index.html\",\"https://books.toscrape.com/catalogue/scott-pilgrims-precious-little-life-scott-pilgrim-1_987/index.html\",\"https://books.toscrape.com/catalogue/rip-it-up-and-start-again_986/index.html\",\"https://books.toscrape.com/catalogue/our-band-could-be-your-life-scenes-from-the-american-indie-underground-1981-1991_985/index.html\",\"https://books.toscrape.com/catalogue/olio_984/index.html\",\"https://books.toscrape.com/catalogue/mesaerion-the-best-science-fiction-stories-1800-1849_983/index.html\",\"https://books.toscrape.com/catalogue/libertarianism-for-beginners_982/index.html\",\"https://books.toscrape.com/catalogue/its-only-the-himalayas_981/index.html\"]]},\"header\":{\"align\":\"left\",\"fill\":{\"color\":\"paleturquoise\"},\"values\":[\"Title\",\"Rating\",\"Price\",\"Link\"]},\"type\":\"table\"}],                        {\"template\":{\"data\":{\"histogram2dcontour\":[{\"type\":\"histogram2dcontour\",\"colorbar\":{\"outlinewidth\":0,\"ticks\":\"\"},\"colorscale\":[[0.0,\"#0d0887\"],[0.1111111111111111,\"#46039f\"],[0.2222222222222222,\"#7201a8\"],[0.3333333333333333,\"#9c179e\"],[0.4444444444444444,\"#bd3786\"],[0.5555555555555556,\"#d8576b\"],[0.6666666666666666,\"#ed7953\"],[0.7777777777777778,\"#fb9f3a\"],[0.8888888888888888,\"#fdca26\"],[1.0,\"#f0f921\"]]}],\"choropleth\":[{\"type\":\"choropleth\",\"colorbar\":{\"outlinewidth\":0,\"ticks\":\"\"}}],\"histogram2d\":[{\"type\":\"histogram2d\",\"colorbar\":{\"outlinewidth\":0,\"ticks\":\"\"},\"colorscale\":[[0.0,\"#0d0887\"],[0.1111111111111111,\"#46039f\"],[0.2222222222222222,\"#7201a8\"],[0.3333333333333333,\"#9c179e\"],[0.4444444444444444,\"#bd3786\"],[0.5555555555555556,\"#d8576b\"],[0.6666666666666666,\"#ed7953\"],[0.7777777777777778,\"#fb9f3a\"],[0.8888888888888888,\"#fdca26\"],[1.0,\"#f0f921\"]]}],\"heatmap\":[{\"type\":\"heatmap\",\"colorbar\":{\"outlinewidth\":0,\"ticks\":\"\"},\"colorscale\":[[0.0,\"#0d0887\"],[0.1111111111111111,\"#46039f\"],[0.2222222222222222,\"#7201a8\"],[0.3333333333333333,\"#9c179e\"],[0.4444444444444444,\"#bd3786\"],[0.5555555555555556,\"#d8576b\"],[0.6666666666666666,\"#ed7953\"],[0.7777777777777778,\"#fb9f3a\"],[0.8888888888888888,\"#fdca26\"],[1.0,\"#f0f921\"]]}],\"heatmapgl\":[{\"type\":\"heatmapgl\",\"colorbar\":{\"outlinewidth\":0,\"ticks\":\"\"},\"colorscale\":[[0.0,\"#0d0887\"],[0.1111111111111111,\"#46039f\"],[0.2222222222222222,\"#7201a8\"],[0.3333333333333333,\"#9c179e\"],[0.4444444444444444,\"#bd3786\"],[0.5555555555555556,\"#d8576b\"],[0.6666666666666666,\"#ed7953\"],[0.7777777777777778,\"#fb9f3a\"],[0.8888888888888888,\"#fdca26\"],[1.0,\"#f0f921\"]]}],\"contourcarpet\":[{\"type\":\"contourcarpet\",\"colorbar\":{\"outlinewidth\":0,\"ticks\":\"\"}}],\"contour\":[{\"type\":\"contour\",\"colorbar\":{\"outlinewidth\":0,\"ticks\":\"\"},\"colorscale\":[[0.0,\"#0d0887\"],[0.1111111111111111,\"#46039f\"],[0.2222222222222222,\"#7201a8\"],[0.3333333333333333,\"#9c179e\"],[0.4444444444444444,\"#bd3786\"],[0.5555555555555556,\"#d8576b\"],[0.6666666666666666,\"#ed7953\"],[0.7777777777777778,\"#fb9f3a\"],[0.8888888888888888,\"#fdca26\"],[1.0,\"#f0f921\"]]}],\"surface\":[{\"type\":\"surface\",\"colorbar\":{\"outlinewidth\":0,\"ticks\":\"\"},\"colorscale\":[[0.0,\"#0d0887\"],[0.1111111111111111,\"#46039f\"],[0.2222222222222222,\"#7201a8\"],[0.3333333333333333,\"#9c179e\"],[0.4444444444444444,\"#bd3786\"],[0.5555555555555556,\"#d8576b\"],[0.6666666666666666,\"#ed7953\"],[0.7777777777777778,\"#fb9f3a\"],[0.8888888888888888,\"#fdca26\"],[1.0,\"#f0f921\"]]}],\"mesh3d\":[{\"type\":\"mesh3d\",\"colorbar\":{\"outlinewidth\":0,\"ticks\":\"\"}}],\"scatter\":[{\"fillpattern\":{\"fillmode\":\"overlay\",\"size\":10,\"solidity\":0.2},\"type\":\"scatter\"}],\"parcoords\":[{\"type\":\"parcoords\",\"line\":{\"colorbar\":{\"outlinewidth\":0,\"ticks\":\"\"}}}],\"scatterpolargl\":[{\"type\":\"scatterpolargl\",\"marker\":{\"colorbar\":{\"outlinewidth\":0,\"ticks\":\"\"}}}],\"bar\":[{\"error_x\":{\"color\":\"#2a3f5f\"},\"error_y\":{\"color\":\"#2a3f5f\"},\"marker\":{\"line\":{\"color\":\"#E5ECF6\",\"width\":0.5},\"pattern\":{\"fillmode\":\"overlay\",\"size\":10,\"solidity\":0.2}},\"type\":\"bar\"}],\"scattergeo\":[{\"type\":\"scattergeo\",\"marker\":{\"colorbar\":{\"outlinewidth\":0,\"ticks\":\"\"}}}],\"scatterpolar\":[{\"type\":\"scatterpolar\",\"marker\":{\"colorbar\":{\"outlinewidth\":0,\"ticks\":\"\"}}}],\"histogram\":[{\"marker\":{\"pattern\":{\"fillmode\":\"overlay\",\"size\":10,\"solidity\":0.2}},\"type\":\"histogram\"}],\"scattergl\":[{\"type\":\"scattergl\",\"marker\":{\"colorbar\":{\"outlinewidth\":0,\"ticks\":\"\"}}}],\"scatter3d\":[{\"type\":\"scatter3d\",\"line\":{\"colorbar\":{\"outlinewidth\":0,\"ticks\":\"\"}},\"marker\":{\"colorbar\":{\"outlinewidth\":0,\"ticks\":\"\"}}}],\"scattermapbox\":[{\"type\":\"scattermapbox\",\"marker\":{\"colorbar\":{\"outlinewidth\":0,\"ticks\":\"\"}}}],\"scatterternary\":[{\"type\":\"scatterternary\",\"marker\":{\"colorbar\":{\"outlinewidth\":0,\"ticks\":\"\"}}}],\"scattercarpet\":[{\"type\":\"scattercarpet\",\"marker\":{\"colorbar\":{\"outlinewidth\":0,\"ticks\":\"\"}}}],\"carpet\":[{\"aaxis\":{\"endlinecolor\":\"#2a3f5f\",\"gridcolor\":\"white\",\"linecolor\":\"white\",\"minorgridcolor\":\"white\",\"startlinecolor\":\"#2a3f5f\"},\"baxis\":{\"endlinecolor\":\"#2a3f5f\",\"gridcolor\":\"white\",\"linecolor\":\"white\",\"minorgridcolor\":\"white\",\"startlinecolor\":\"#2a3f5f\"},\"type\":\"carpet\"}],\"table\":[{\"cells\":{\"fill\":{\"color\":\"#EBF0F8\"},\"line\":{\"color\":\"white\"}},\"header\":{\"fill\":{\"color\":\"#C8D4E3\"},\"line\":{\"color\":\"white\"}},\"type\":\"table\"}],\"barpolar\":[{\"marker\":{\"line\":{\"color\":\"#E5ECF6\",\"width\":0.5},\"pattern\":{\"fillmode\":\"overlay\",\"size\":10,\"solidity\":0.2}},\"type\":\"barpolar\"}],\"pie\":[{\"automargin\":true,\"type\":\"pie\"}]},\"layout\":{\"autotypenumbers\":\"strict\",\"colorway\":[\"#636efa\",\"#EF553B\",\"#00cc96\",\"#ab63fa\",\"#FFA15A\",\"#19d3f3\",\"#FF6692\",\"#B6E880\",\"#FF97FF\",\"#FECB52\"],\"font\":{\"color\":\"#2a3f5f\"},\"hovermode\":\"closest\",\"hoverlabel\":{\"align\":\"left\"},\"paper_bgcolor\":\"white\",\"plot_bgcolor\":\"#E5ECF6\",\"polar\":{\"bgcolor\":\"#E5ECF6\",\"angularaxis\":{\"gridcolor\":\"white\",\"linecolor\":\"white\",\"ticks\":\"\"},\"radialaxis\":{\"gridcolor\":\"white\",\"linecolor\":\"white\",\"ticks\":\"\"}},\"ternary\":{\"bgcolor\":\"#E5ECF6\",\"aaxis\":{\"gridcolor\":\"white\",\"linecolor\":\"white\",\"ticks\":\"\"},\"baxis\":{\"gridcolor\":\"white\",\"linecolor\":\"white\",\"ticks\":\"\"},\"caxis\":{\"gridcolor\":\"white\",\"linecolor\":\"white\",\"ticks\":\"\"}},\"coloraxis\":{\"colorbar\":{\"outlinewidth\":0,\"ticks\":\"\"}},\"colorscale\":{\"sequential\":[[0.0,\"#0d0887\"],[0.1111111111111111,\"#46039f\"],[0.2222222222222222,\"#7201a8\"],[0.3333333333333333,\"#9c179e\"],[0.4444444444444444,\"#bd3786\"],[0.5555555555555556,\"#d8576b\"],[0.6666666666666666,\"#ed7953\"],[0.7777777777777778,\"#fb9f3a\"],[0.8888888888888888,\"#fdca26\"],[1.0,\"#f0f921\"]],\"sequentialminus\":[[0.0,\"#0d0887\"],[0.1111111111111111,\"#46039f\"],[0.2222222222222222,\"#7201a8\"],[0.3333333333333333,\"#9c179e\"],[0.4444444444444444,\"#bd3786\"],[0.5555555555555556,\"#d8576b\"],[0.6666666666666666,\"#ed7953\"],[0.7777777777777778,\"#fb9f3a\"],[0.8888888888888888,\"#fdca26\"],[1.0,\"#f0f921\"]],\"diverging\":[[0,\"#8e0152\"],[0.1,\"#c51b7d\"],[0.2,\"#de77ae\"],[0.3,\"#f1b6da\"],[0.4,\"#fde0ef\"],[0.5,\"#f7f7f7\"],[0.6,\"#e6f5d0\"],[0.7,\"#b8e186\"],[0.8,\"#7fbc41\"],[0.9,\"#4d9221\"],[1,\"#276419\"]]},\"xaxis\":{\"gridcolor\":\"white\",\"linecolor\":\"white\",\"ticks\":\"\",\"title\":{\"standoff\":15},\"zerolinecolor\":\"white\",\"automargin\":true,\"zerolinewidth\":2},\"yaxis\":{\"gridcolor\":\"white\",\"linecolor\":\"white\",\"ticks\":\"\",\"title\":{\"standoff\":15},\"zerolinecolor\":\"white\",\"automargin\":true,\"zerolinewidth\":2},\"scene\":{\"xaxis\":{\"backgroundcolor\":\"#E5ECF6\",\"gridcolor\":\"white\",\"linecolor\":\"white\",\"showbackground\":true,\"ticks\":\"\",\"zerolinecolor\":\"white\",\"gridwidth\":2},\"yaxis\":{\"backgroundcolor\":\"#E5ECF6\",\"gridcolor\":\"white\",\"linecolor\":\"white\",\"showbackground\":true,\"ticks\":\"\",\"zerolinecolor\":\"white\",\"gridwidth\":2},\"zaxis\":{\"backgroundcolor\":\"#E5ECF6\",\"gridcolor\":\"white\",\"linecolor\":\"white\",\"showbackground\":true,\"ticks\":\"\",\"zerolinecolor\":\"white\",\"gridwidth\":2}},\"shapedefaults\":{\"line\":{\"color\":\"#2a3f5f\"}},\"annotationdefaults\":{\"arrowcolor\":\"#2a3f5f\",\"arrowhead\":0,\"arrowwidth\":1},\"geo\":{\"bgcolor\":\"white\",\"landcolor\":\"#E5ECF6\",\"subunitcolor\":\"white\",\"showland\":true,\"showlakes\":true,\"lakecolor\":\"white\"},\"title\":{\"x\":0.05},\"mapbox\":{\"style\":\"light\"}}}},                        {\"responsive\": true}                    ).then(function(){\n",
       "                            \n",
       "var gd = document.getElementById('f79c5ae9-06c9-42b2-a222-dc4fc0ef3dfd');\n",
       "var x = new MutationObserver(function (mutations, observer) {{\n",
       "        var display = window.getComputedStyle(gd).display;\n",
       "        if (!display || display === 'none') {{\n",
       "            console.log([gd, 'removed!']);\n",
       "            Plotly.purge(gd);\n",
       "            observer.disconnect();\n",
       "        }}\n",
       "}});\n",
       "\n",
       "// Listen for the removal of the full notebook cells\n",
       "var notebookContainer = gd.closest('#notebook-container');\n",
       "if (notebookContainer) {{\n",
       "    x.observe(notebookContainer, {childList: true});\n",
       "}}\n",
       "\n",
       "// Listen for the clearing of the current output cell\n",
       "var outputEl = gd.closest('.output');\n",
       "if (outputEl) {{\n",
       "    x.observe(outputEl, {childList: true});\n",
       "}}\n",
       "\n",
       "                        })                };                });            </script>        </div>"
      ]
     },
     "metadata": {},
     "output_type": "display_data"
    }
   ],
   "source": [
    "import plotly.graph_objects as go\n",
    "\n",
    "# Creating  a plotly figure of the DataFrame\n",
    "fig = go.Figure(data=[go.Table(\n",
    "    header=dict(values=list(df.columns), fill_color='paleturquoise', align='left'),\n",
    "    cells=dict(values=[df[col] for col in df.columns], fill_color='lavender', align='left'))\n",
    "])\n",
    "\n",
    "# Showing the figure (displays the table)\n",
    "fig.show()\n"
   ]
  },
  {
   "cell_type": "code",
   "execution_count": null,
   "id": "500a2a00",
   "metadata": {},
   "outputs": [],
   "source": []
  },
  {
   "cell_type": "code",
   "execution_count": null,
   "id": "6d2bad50",
   "metadata": {},
   "outputs": [],
   "source": []
  },
  {
   "cell_type": "code",
   "execution_count": null,
   "id": "649d4fce",
   "metadata": {},
   "outputs": [],
   "source": []
  },
  {
   "cell_type": "code",
   "execution_count": null,
   "id": "13a5becd",
   "metadata": {},
   "outputs": [],
   "source": []
  },
  {
   "cell_type": "code",
   "execution_count": null,
   "id": "e1a5a025",
   "metadata": {},
   "outputs": [],
   "source": []
  },
  {
   "cell_type": "code",
   "execution_count": null,
   "id": "737ed7e3",
   "metadata": {},
   "outputs": [],
   "source": []
  },
  {
   "cell_type": "code",
   "execution_count": null,
   "id": "89884e88",
   "metadata": {},
   "outputs": [],
   "source": []
  },
  {
   "cell_type": "code",
   "execution_count": null,
   "id": "460eb7f3",
   "metadata": {},
   "outputs": [],
   "source": []
  }
 ],
 "metadata": {
  "kernelspec": {
   "display_name": "Python 3 (ipykernel)",
   "language": "python",
   "name": "python3"
  },
  "language_info": {
   "codemirror_mode": {
    "name": "ipython",
    "version": 3
   },
   "file_extension": ".py",
   "mimetype": "text/x-python",
   "name": "python",
   "nbconvert_exporter": "python",
   "pygments_lexer": "ipython3",
   "version": "3.9.13"
  }
 },
 "nbformat": 4,
 "nbformat_minor": 5
}
